{
  "nbformat": 4,
  "nbformat_minor": 0,
  "metadata": {
    "colab": {
      "name": "tran_ver4.ipynb",
      "provenance": [],
      "collapsed_sections": [],
      "machine_shape": "hm"
    },
    "kernelspec": {
      "name": "python3",
      "display_name": "Python 3"
    },
    "language_info": {
      "name": "python"
    },
    "accelerator": "GPU"
  },
  "cells": [
    {
      "cell_type": "code",
      "metadata": {
        "colab": {
          "base_uri": "https://localhost:8080/"
        },
        "id": "TiVHywxTIZWp",
        "outputId": "191819f3-f2cf-47c3-8ceb-30d3c1497520"
      },
      "source": [
        "!nvidia-smi"
      ],
      "execution_count": null,
      "outputs": [
        {
          "output_type": "stream",
          "text": [
            "Wed Jul  7 01:37:25 2021       \n",
            "+-----------------------------------------------------------------------------+\n",
            "| NVIDIA-SMI 465.27       Driver Version: 460.32.03    CUDA Version: 11.2     |\n",
            "|-------------------------------+----------------------+----------------------+\n",
            "| GPU  Name        Persistence-M| Bus-Id        Disp.A | Volatile Uncorr. ECC |\n",
            "| Fan  Temp  Perf  Pwr:Usage/Cap|         Memory-Usage | GPU-Util  Compute M. |\n",
            "|                               |                      |               MIG M. |\n",
            "|===============================+======================+======================|\n",
            "|   0  Tesla V100-SXM2...  Off  | 00000000:00:04.0 Off |                    0 |\n",
            "| N/A   38C    P0    24W / 300W |      0MiB / 16160MiB |      0%      Default |\n",
            "|                               |                      |                  N/A |\n",
            "+-------------------------------+----------------------+----------------------+\n",
            "                                                                               \n",
            "+-----------------------------------------------------------------------------+\n",
            "| Processes:                                                                  |\n",
            "|  GPU   GI   CI        PID   Type   Process name                  GPU Memory |\n",
            "|        ID   ID                                                   Usage      |\n",
            "|=============================================================================|\n",
            "|  No running processes found                                                 |\n",
            "+-----------------------------------------------------------------------------+\n"
          ],
          "name": "stdout"
        }
      ]
    },
    {
      "cell_type": "code",
      "metadata": {
        "id": "Z9XMztDNQMrT",
        "colab": {
          "base_uri": "https://localhost:8080/"
        },
        "outputId": "f6e8c6fd-09be-4ded-faa3-b1718427a202"
      },
      "source": [
        "from google.colab import drive\n",
        "\n",
        "drive.mount('/content/gdrive')\n",
        "path = '/content/gdrive/MyDrive/data'\n",
        "%cd {path}\n",
        "!ls"
      ],
      "execution_count": null,
      "outputs": [
        {
          "output_type": "stream",
          "text": [
            "Mounted at /content/gdrive\n",
            "/content/gdrive/MyDrive/data\n",
            "'Bản sao của eng.txt'\t\t\t        NNVLP\n",
            " char\t\t\t\t\t        OpenNMT-py\n",
            " Co_Huong\t\t\t\t        OpenNMT-tf\n",
            " corpus.21a7f66d40bcf46cc5fba018aba04c7a.data   pred3.txt\n",
            " data_err.txt\t\t\t\t        pred.txt\n",
            " data_e.txt\t\t\t\t        rnn_0_epoch.net\n",
            " data_pro.txt\t\t\t\t        rnn_1_epoch.net\n",
            " deep-spell-checkr\t\t\t        train\n",
            " eng1.txt\t\t\t\t        train_vntc1.txt\n",
            " engt.txt\t\t\t\t        VNTC\n",
            " eng.txt\n"
          ],
          "name": "stdout"
        }
      ]
    },
    {
      "cell_type": "code",
      "metadata": {
        "id": "wl57aZ5QWc9M",
        "colab": {
          "base_uri": "https://localhost:8080/"
        },
        "outputId": "66c6ca4c-289f-40db-b6c9-c6f7e09e661e"
      },
      "source": [
        "!git clone -b legacy https://github.com/OpenNMT/OpenNMT-py\n"
      ],
      "execution_count": null,
      "outputs": [
        {
          "output_type": "stream",
          "text": [
            "fatal: destination path 'OpenNMT-py' already exists and is not an empty directory.\n"
          ],
          "name": "stdout"
        }
      ]
    },
    {
      "cell_type": "code",
      "metadata": {
        "id": "Fxyxxy_uWena",
        "colab": {
          "base_uri": "https://localhost:8080/"
        },
        "outputId": "61babb1e-2771-4796-a521-0c10091ff493"
      },
      "source": [
        "!pip install OpenNMT-py"
      ],
      "execution_count": null,
      "outputs": [
        {
          "output_type": "stream",
          "text": [
            "Collecting OpenNMT-py\n",
            "\u001b[?25l  Downloading https://files.pythonhosted.org/packages/e9/23/c565e03ddffb57db1b79bd9a97c8f56895eea094d9314ba5b12ce1282593/OpenNMT_py-2.1.2-py3-none-any.whl (212kB)\n",
            "\r\u001b[K     |█▌                              | 10kB 24.9MB/s eta 0:00:01\r\u001b[K     |███                             | 20kB 27.7MB/s eta 0:00:01\r\u001b[K     |████▋                           | 30kB 19.2MB/s eta 0:00:01\r\u001b[K     |██████▏                         | 40kB 16.8MB/s eta 0:00:01\r\u001b[K     |███████▊                        | 51kB 7.7MB/s eta 0:00:01\r\u001b[K     |█████████▎                      | 61kB 8.2MB/s eta 0:00:01\r\u001b[K     |██████████▊                     | 71kB 8.7MB/s eta 0:00:01\r\u001b[K     |████████████▎                   | 81kB 8.3MB/s eta 0:00:01\r\u001b[K     |█████████████▉                  | 92kB 8.6MB/s eta 0:00:01\r\u001b[K     |███████████████▍                | 102kB 7.5MB/s eta 0:00:01\r\u001b[K     |█████████████████               | 112kB 7.5MB/s eta 0:00:01\r\u001b[K     |██████████████████▌             | 122kB 7.5MB/s eta 0:00:01\r\u001b[K     |████████████████████            | 133kB 7.5MB/s eta 0:00:01\r\u001b[K     |█████████████████████▌          | 143kB 7.5MB/s eta 0:00:01\r\u001b[K     |███████████████████████         | 153kB 7.5MB/s eta 0:00:01\r\u001b[K     |████████████████████████▋       | 163kB 7.5MB/s eta 0:00:01\r\u001b[K     |██████████████████████████▏     | 174kB 7.5MB/s eta 0:00:01\r\u001b[K     |███████████████████████████▊    | 184kB 7.5MB/s eta 0:00:01\r\u001b[K     |█████████████████████████████▎  | 194kB 7.5MB/s eta 0:00:01\r\u001b[K     |██████████████████████████████▊ | 204kB 7.5MB/s eta 0:00:01\r\u001b[K     |████████████████████████████████| 215kB 7.5MB/s \n",
            "\u001b[?25hCollecting flask==1.1.2\n",
            "\u001b[?25l  Downloading https://files.pythonhosted.org/packages/f2/28/2a03252dfb9ebf377f40fba6a7841b47083260bf8bd8e737b0c6952df83f/Flask-1.1.2-py2.py3-none-any.whl (94kB)\n",
            "\u001b[K     |████████████████████████████████| 102kB 13.0MB/s \n",
            "\u001b[?25hCollecting tqdm<5,>=4.51\n",
            "\u001b[?25l  Downloading https://files.pythonhosted.org/packages/7a/ec/f8ff3ccfc4e59ce619a66a0bf29dc3b49c2e8c07de29d572e191c006eaa2/tqdm-4.61.2-py2.py3-none-any.whl (76kB)\n",
            "\u001b[K     |████████████████████████████████| 81kB 11.3MB/s \n",
            "\u001b[?25hCollecting torchtext==0.5.0\n",
            "\u001b[?25l  Downloading https://files.pythonhosted.org/packages/79/ef/54b8da26f37787f5c670ae2199329e7dccf195c060b25628d99e587dac51/torchtext-0.5.0-py3-none-any.whl (73kB)\n",
            "\u001b[K     |████████████████████████████████| 81kB 12.2MB/s \n",
            "\u001b[?25hCollecting pyonmttok<2,>=1.23; platform_system == \"Linux\" or platform_system == \"Darwin\"\n",
            "\u001b[?25l  Downloading https://files.pythonhosted.org/packages/90/73/034c3e0584322e3f3f03c0965c8a83df0ab7ae5ca65172203cd606ffe8ce/pyonmttok-1.26.4-cp37-cp37m-manylinux1_x86_64.whl (14.3MB)\n",
            "\u001b[K     |████████████████████████████████| 14.3MB 26.4MB/s \n",
            "\u001b[?25hRequirement already satisfied: tensorboard<3,>=2.3 in /usr/local/lib/python3.7/dist-packages (from OpenNMT-py) (2.5.0)\n",
            "Collecting waitress==1.4.4\n",
            "\u001b[?25l  Downloading https://files.pythonhosted.org/packages/26/d1/5209fb8c764497a592363c47054436a515b47b8c3e4970ddd7184f088857/waitress-1.4.4-py2.py3-none-any.whl (58kB)\n",
            "\u001b[K     |████████████████████████████████| 61kB 9.9MB/s \n",
            "\u001b[?25hCollecting torch==1.6.0\n",
            "\u001b[?25l  Downloading https://files.pythonhosted.org/packages/5d/5e/35140615fc1f925023f489e71086a9ecc188053d263d3594237281284d82/torch-1.6.0-cp37-cp37m-manylinux1_x86_64.whl (748.8MB)\n",
            "\u001b[K     |████████████████████████████████| 748.8MB 23kB/s \n",
            "\u001b[?25hCollecting pyyaml==5.4\n",
            "\u001b[?25l  Downloading https://files.pythonhosted.org/packages/f1/86/83ae5504903b4eca5ae1fd3c53b87b640f9c302df2c97fc08331ec7f3c8a/PyYAML-5.4-cp37-cp37m-manylinux1_x86_64.whl (636kB)\n",
            "\u001b[K     |████████████████████████████████| 645kB 58.3MB/s \n",
            "\u001b[?25hCollecting configargparse<2,>=1.2.3\n",
            "  Downloading https://files.pythonhosted.org/packages/5e/1d/9722b6247cb89ee9f741095bf748c87ae064c5961758846e4f03fa1f4940/ConfigArgParse-1.5.1-py3-none-any.whl\n",
            "Requirement already satisfied: Jinja2>=2.10.1 in /usr/local/lib/python3.7/dist-packages (from flask==1.1.2->OpenNMT-py) (2.11.3)\n",
            "Requirement already satisfied: click>=5.1 in /usr/local/lib/python3.7/dist-packages (from flask==1.1.2->OpenNMT-py) (7.1.2)\n",
            "Requirement already satisfied: Werkzeug>=0.15 in /usr/local/lib/python3.7/dist-packages (from flask==1.1.2->OpenNMT-py) (1.0.1)\n",
            "Requirement already satisfied: itsdangerous>=0.24 in /usr/local/lib/python3.7/dist-packages (from flask==1.1.2->OpenNMT-py) (1.1.0)\n",
            "Requirement already satisfied: requests in /usr/local/lib/python3.7/dist-packages (from torchtext==0.5.0->OpenNMT-py) (2.23.0)\n",
            "Requirement already satisfied: six in /usr/local/lib/python3.7/dist-packages (from torchtext==0.5.0->OpenNMT-py) (1.15.0)\n",
            "Requirement already satisfied: numpy in /usr/local/lib/python3.7/dist-packages (from torchtext==0.5.0->OpenNMT-py) (1.19.5)\n",
            "Collecting sentencepiece\n",
            "\u001b[?25l  Downloading https://files.pythonhosted.org/packages/ac/aa/1437691b0c7c83086ebb79ce2da16e00bef024f24fec2a5161c35476f499/sentencepiece-0.1.96-cp37-cp37m-manylinux_2_17_x86_64.manylinux2014_x86_64.whl (1.2MB)\n",
            "\u001b[K     |████████████████████████████████| 1.2MB 69.5MB/s \n",
            "\u001b[?25hRequirement already satisfied: tensorboard-data-server<0.7.0,>=0.6.0 in /usr/local/lib/python3.7/dist-packages (from tensorboard<3,>=2.3->OpenNMT-py) (0.6.1)\n",
            "Requirement already satisfied: google-auth<2,>=1.6.3 in /usr/local/lib/python3.7/dist-packages (from tensorboard<3,>=2.3->OpenNMT-py) (1.31.0)\n",
            "Requirement already satisfied: grpcio>=1.24.3 in /usr/local/lib/python3.7/dist-packages (from tensorboard<3,>=2.3->OpenNMT-py) (1.34.1)\n",
            "Requirement already satisfied: wheel>=0.26; python_version >= \"3\" in /usr/local/lib/python3.7/dist-packages (from tensorboard<3,>=2.3->OpenNMT-py) (0.36.2)\n",
            "Requirement already satisfied: absl-py>=0.4 in /usr/local/lib/python3.7/dist-packages (from tensorboard<3,>=2.3->OpenNMT-py) (0.12.0)\n",
            "Requirement already satisfied: setuptools>=41.0.0 in /usr/local/lib/python3.7/dist-packages (from tensorboard<3,>=2.3->OpenNMT-py) (57.0.0)\n",
            "Requirement already satisfied: google-auth-oauthlib<0.5,>=0.4.1 in /usr/local/lib/python3.7/dist-packages (from tensorboard<3,>=2.3->OpenNMT-py) (0.4.4)\n",
            "Requirement already satisfied: protobuf>=3.6.0 in /usr/local/lib/python3.7/dist-packages (from tensorboard<3,>=2.3->OpenNMT-py) (3.12.4)\n",
            "Requirement already satisfied: tensorboard-plugin-wit>=1.6.0 in /usr/local/lib/python3.7/dist-packages (from tensorboard<3,>=2.3->OpenNMT-py) (1.8.0)\n",
            "Requirement already satisfied: markdown>=2.6.8 in /usr/local/lib/python3.7/dist-packages (from tensorboard<3,>=2.3->OpenNMT-py) (3.3.4)\n",
            "Requirement already satisfied: future in /usr/local/lib/python3.7/dist-packages (from torch==1.6.0->OpenNMT-py) (0.16.0)\n",
            "Requirement already satisfied: MarkupSafe>=0.23 in /usr/local/lib/python3.7/dist-packages (from Jinja2>=2.10.1->flask==1.1.2->OpenNMT-py) (2.0.1)\n",
            "Requirement already satisfied: certifi>=2017.4.17 in /usr/local/lib/python3.7/dist-packages (from requests->torchtext==0.5.0->OpenNMT-py) (2021.5.30)\n",
            "Requirement already satisfied: chardet<4,>=3.0.2 in /usr/local/lib/python3.7/dist-packages (from requests->torchtext==0.5.0->OpenNMT-py) (3.0.4)\n",
            "Requirement already satisfied: urllib3!=1.25.0,!=1.25.1,<1.26,>=1.21.1 in /usr/local/lib/python3.7/dist-packages (from requests->torchtext==0.5.0->OpenNMT-py) (1.24.3)\n",
            "Requirement already satisfied: idna<3,>=2.5 in /usr/local/lib/python3.7/dist-packages (from requests->torchtext==0.5.0->OpenNMT-py) (2.10)\n",
            "Requirement already satisfied: rsa<5,>=3.1.4; python_version >= \"3.6\" in /usr/local/lib/python3.7/dist-packages (from google-auth<2,>=1.6.3->tensorboard<3,>=2.3->OpenNMT-py) (4.7.2)\n",
            "Requirement already satisfied: cachetools<5.0,>=2.0.0 in /usr/local/lib/python3.7/dist-packages (from google-auth<2,>=1.6.3->tensorboard<3,>=2.3->OpenNMT-py) (4.2.2)\n",
            "Requirement already satisfied: pyasn1-modules>=0.2.1 in /usr/local/lib/python3.7/dist-packages (from google-auth<2,>=1.6.3->tensorboard<3,>=2.3->OpenNMT-py) (0.2.8)\n",
            "Requirement already satisfied: requests-oauthlib>=0.7.0 in /usr/local/lib/python3.7/dist-packages (from google-auth-oauthlib<0.5,>=0.4.1->tensorboard<3,>=2.3->OpenNMT-py) (1.3.0)\n",
            "Requirement already satisfied: importlib-metadata; python_version < \"3.8\" in /usr/local/lib/python3.7/dist-packages (from markdown>=2.6.8->tensorboard<3,>=2.3->OpenNMT-py) (4.5.0)\n",
            "Requirement already satisfied: pyasn1>=0.1.3 in /usr/local/lib/python3.7/dist-packages (from rsa<5,>=3.1.4; python_version >= \"3.6\"->google-auth<2,>=1.6.3->tensorboard<3,>=2.3->OpenNMT-py) (0.4.8)\n",
            "Requirement already satisfied: oauthlib>=3.0.0 in /usr/local/lib/python3.7/dist-packages (from requests-oauthlib>=0.7.0->google-auth-oauthlib<0.5,>=0.4.1->tensorboard<3,>=2.3->OpenNMT-py) (3.1.1)\n",
            "Requirement already satisfied: zipp>=0.5 in /usr/local/lib/python3.7/dist-packages (from importlib-metadata; python_version < \"3.8\"->markdown>=2.6.8->tensorboard<3,>=2.3->OpenNMT-py) (3.4.1)\n",
            "Requirement already satisfied: typing-extensions>=3.6.4; python_version < \"3.8\" in /usr/local/lib/python3.7/dist-packages (from importlib-metadata; python_version < \"3.8\"->markdown>=2.6.8->tensorboard<3,>=2.3->OpenNMT-py) (3.7.4.3)\n",
            "\u001b[31mERROR: torchvision 0.10.0+cu102 has requirement torch==1.9.0, but you'll have torch 1.6.0 which is incompatible.\u001b[0m\n",
            "Installing collected packages: flask, tqdm, torch, sentencepiece, torchtext, pyonmttok, waitress, pyyaml, configargparse, OpenNMT-py\n",
            "  Found existing installation: Flask 1.1.4\n",
            "    Uninstalling Flask-1.1.4:\n",
            "      Successfully uninstalled Flask-1.1.4\n",
            "  Found existing installation: tqdm 4.41.1\n",
            "    Uninstalling tqdm-4.41.1:\n",
            "      Successfully uninstalled tqdm-4.41.1\n",
            "  Found existing installation: torch 1.9.0+cu102\n",
            "    Uninstalling torch-1.9.0+cu102:\n",
            "      Successfully uninstalled torch-1.9.0+cu102\n",
            "  Found existing installation: torchtext 0.10.0\n",
            "    Uninstalling torchtext-0.10.0:\n",
            "      Successfully uninstalled torchtext-0.10.0\n",
            "  Found existing installation: PyYAML 3.13\n",
            "    Uninstalling PyYAML-3.13:\n",
            "      Successfully uninstalled PyYAML-3.13\n",
            "Successfully installed OpenNMT-py-2.1.2 configargparse-1.5.1 flask-1.1.2 pyonmttok-1.26.4 pyyaml-5.4 sentencepiece-0.1.96 torch-1.6.0 torchtext-0.5.0 tqdm-4.61.2 waitress-1.4.4\n"
          ],
          "name": "stdout"
        }
      ]
    },
    {
      "cell_type": "code",
      "metadata": {
        "id": "1FdN4Q8bKDae"
      },
      "source": [
        "!python OpenNMT-py/preprocess.py -train_src train/train_src2.txt -train_tgt train/train_tgt2.txt -valid_src train/val_src2.txt -valid_tgt train/val_tgt2.txt -save_data Co_Huong/demo"
      ],
      "execution_count": null,
      "outputs": []
    },
    {
      "cell_type": "code",
      "metadata": {
        "id": "WhdIF3KFW5PY",
        "colab": {
          "base_uri": "https://localhost:8080/"
        },
        "outputId": "0b1797b2-f110-4df5-ffb3-dac076cf48fc"
      },
      "source": [
        "!nvidia-smi\n"
      ],
      "execution_count": null,
      "outputs": [
        {
          "output_type": "stream",
          "text": [
            "Sun Jun 27 17:11:37 2021       \n",
            "+-----------------------------------------------------------------------------+\n",
            "| NVIDIA-SMI 465.27       Driver Version: 460.32.03    CUDA Version: 11.2     |\n",
            "|-------------------------------+----------------------+----------------------+\n",
            "| GPU  Name        Persistence-M| Bus-Id        Disp.A | Volatile Uncorr. ECC |\n",
            "| Fan  Temp  Perf  Pwr:Usage/Cap|         Memory-Usage | GPU-Util  Compute M. |\n",
            "|                               |                      |               MIG M. |\n",
            "|===============================+======================+======================|\n",
            "|   0  Tesla P100-PCIE...  Off  | 00000000:00:04.0 Off |                    0 |\n",
            "| N/A   45C    P0    29W / 250W |      0MiB / 16280MiB |      0%      Default |\n",
            "|                               |                      |                  N/A |\n",
            "+-------------------------------+----------------------+----------------------+\n",
            "                                                                               \n",
            "+-----------------------------------------------------------------------------+\n",
            "| Processes:                                                                  |\n",
            "|  GPU   GI   CI        PID   Type   Process name                  GPU Memory |\n",
            "|        ID   ID                                                   Usage      |\n",
            "|=============================================================================|\n",
            "|  No running processes found                                                 |\n",
            "+-----------------------------------------------------------------------------+\n"
          ],
          "name": "stdout"
        }
      ]
    },
    {
      "cell_type": "markdown",
      "metadata": {
        "id": "pb-67c9KYMSm"
      },
      "source": [
        "TRAIN MODEL WITH TRANSFORMER\n"
      ]
    },
    {
      "cell_type": "code",
      "metadata": {
        "id": "TStqqEWdYy5q"
      },
      "source": [
        "!python OpenNMT-py/train.py -data train/eng_mark/demo1 -save_model train/eng_mark/model/model -layers 6 -rnn_size 512 -word_vec_size 512 -transformer_ff 2048 -heads 8 -encoder_type transformer -decoder_type transformer -position_encoding -train_steps 150000 -max_generator_batches 2 -dropout 0.1 -batch_size 4096 -batch_type tokens -normalization tokens -accum_count 2 -optim adam -adam_beta2 0.998 -decay_method noam -warmup_steps 8000 -learning_rate 2 -max_grad_norm 0 -param_init 0 -param_init_glorot -label_smoothing 0.1 -valid_steps 1000 -save_checkpoint_steps 1000 -world_size 1 -gpu_rank 0 "
      ],
      "execution_count": null,
      "outputs": []
    },
    {
      "cell_type": "code",
      "metadata": {
        "id": "cw5QnxtfOgTe"
      },
      "source": [
        "!python OpenNMT-py/translate.py -model train/eng_mark/model/model_step_150000.pt -src Co_Huong/test_src2.txt -output pred.txt -replace_unk -verbose -beam_size 4"
      ],
      "execution_count": null,
      "outputs": []
    },
    {
      "cell_type": "code",
      "metadata": {
        "id": "AQl0_v9CDiD8"
      },
      "source": [
        "!python OpenNMT-py/translate.py -model train/eng_mark/model/model_step_150000.pt -src train/test_src3.txt -output pred3.txt -replace_unk -verbose -beam_size 2"
      ],
      "execution_count": null,
      "outputs": []
    },
    {
      "cell_type": "code",
      "metadata": {
        "id": "CfblRQNZcop1"
      },
      "source": [
        "!python OpenNMT-py/translate.py -model train/eng_mark/model/model_step_150000.pt -src VNTC/test_src.txt -output VNTC/pred.txt -replace_unk -verbose -beam_size 4"
      ],
      "execution_count": null,
      "outputs": []
    },
    {
      "cell_type": "code",
      "metadata": {
        "colab": {
          "base_uri": "https://localhost:8080/"
        },
        "id": "Tiv_7dA5VbvG",
        "outputId": "2a16083b-f04a-4edc-f218-99ddd53eee09"
      },
      "source": [
        "!perl  OpenNMT-py/tools/multi-bleu.perl Co_Huong/test_tgt2.txt < Co_Huong/test_src2.txt"
      ],
      "execution_count": null,
      "outputs": [
        {
          "output_type": "stream",
          "text": [
            "BLEU = 86.70, 94.2/89.1/84.4/79.8 (BP=1.000, ratio=1.000, hyp_len=9333, ref_len=9329)\n"
          ],
          "name": "stdout"
        }
      ]
    },
    {
      "cell_type": "code",
      "metadata": {
        "colab": {
          "base_uri": "https://localhost:8080/"
        },
        "id": "s5JKTEDsVn8F",
        "outputId": "734413ff-c280-414a-eed4-6d6ebb0924db"
      },
      "source": [
        "!perl  OpenNMT-py/tools/multi-bleu.perl Co_Huong/test_tgt2.txt < pred.txt"
      ],
      "execution_count": null,
      "outputs": [
        {
          "output_type": "stream",
          "text": [
            "BLEU = 87.13, 95.0/90.5/86.3/82.3 (BP=0.986, ratio=0.986, hyp_len=9196, ref_len=9329)\n"
          ],
          "name": "stdout"
        }
      ]
    },
    {
      "cell_type": "code",
      "metadata": {
        "id": "QMkJDEP9XC1d",
        "colab": {
          "base_uri": "https://localhost:8080/"
        },
        "outputId": "43e0da64-527b-490f-9389-0b4c00997192"
      },
      "source": [
        "!perl  OpenNMT-py/tools/multi-bleu.perl train/test_tgt2.txt < train/test_src2.txt"
      ],
      "execution_count": null,
      "outputs": [
        {
          "output_type": "stream",
          "text": [
            "BLEU = 63.10, 82.8/69.1/57.6/48.1 (BP=1.000, ratio=1.000, hyp_len=251158, ref_len=251176)\n"
          ],
          "name": "stdout"
        }
      ]
    },
    {
      "cell_type": "code",
      "metadata": {
        "id": "CcB86xOXXFhT",
        "colab": {
          "base_uri": "https://localhost:8080/"
        },
        "outputId": "d9c06deb-8e07-4ea1-9610-006df8a9c2c7"
      },
      "source": [
        "!perl  OpenNMT-py/tools/multi-bleu.perl train/test_tgt2.txt < pred.txt"
      ],
      "execution_count": null,
      "outputs": [
        {
          "output_type": "stream",
          "text": [
            "BLEU = 85.97, 95.3/91.2/87.5/84.0 (BP=0.962, ratio=0.963, hyp_len=149836, ref_len=155661)\n"
          ],
          "name": "stdout"
        }
      ]
    },
    {
      "cell_type": "code",
      "metadata": {
        "colab": {
          "base_uri": "https://localhost:8080/"
        },
        "id": "vdorgmJWLhW3",
        "outputId": "e462963d-9dcb-43b1-ecb6-04b822c76641"
      },
      "source": [
        "!perl  OpenNMT-py/tools/multi-bleu.perl train/test_tgt2.txt < train/test_src3.txt"
      ],
      "execution_count": null,
      "outputs": [
        {
          "output_type": "stream",
          "text": [
            "BLEU = 64.96, 83.8/70.7/59.7/50.4 (BP=1.000, ratio=1.000, hyp_len=251145, ref_len=251176)\n"
          ],
          "name": "stdout"
        }
      ]
    },
    {
      "cell_type": "code",
      "metadata": {
        "colab": {
          "base_uri": "https://localhost:8080/"
        },
        "id": "syhzW3VALkZe",
        "outputId": "d38ef1cb-16d5-4d7f-bbba-7877893b6888"
      },
      "source": [
        "!perl  OpenNMT-py/tools/multi-bleu.perl train/test_tgt2.txt < pred3.txt"
      ],
      "execution_count": null,
      "outputs": [
        {
          "output_type": "stream",
          "text": [
            "BLEU = 87.10, 95.8/92.1/88.8/85.7 (BP=0.962, ratio=0.963, hyp_len=149890, ref_len=155661)\n"
          ],
          "name": "stdout"
        }
      ]
    },
    {
      "cell_type": "code",
      "metadata": {
        "colab": {
          "base_uri": "https://localhost:8080/"
        },
        "id": "7IplxRYFiqWq",
        "outputId": "806fe785-dae2-4285-ca1f-48b1b16945b8"
      },
      "source": [
        "!perl  OpenNMT-py/tools/multi-bleu.perl VNTC/test_tgt.txt < VNTC/test_src.txt"
      ],
      "execution_count": null,
      "outputs": [
        {
          "output_type": "stream",
          "text": [
            "BLEU = 63.91, 83.2/69.8/58.6/49.2 (BP=1.000, ratio=1.000, hyp_len=4947898, ref_len=4949719)\n"
          ],
          "name": "stdout"
        }
      ]
    },
    {
      "cell_type": "code",
      "metadata": {
        "colab": {
          "base_uri": "https://localhost:8080/"
        },
        "id": "4UxchZThfP0V",
        "outputId": "74be622e-6f19-41e4-cafa-c0a00efd368d"
      },
      "source": [
        "!perl  OpenNMT-py/tools/multi-bleu.perl VNTC/test_tgt.txt < VNTC/pred.txt"
      ],
      "execution_count": null,
      "outputs": [
        {
          "output_type": "stream",
          "text": [
            "BLEU = 83.65, 94.2/89.3/84.8/80.7 (BP=0.960, ratio=0.961, hyp_len=4756177, ref_len=4949719)\n"
          ],
          "name": "stdout"
        }
      ]
    },
    {
      "cell_type": "code",
      "metadata": {
        "colab": {
          "base_uri": "https://localhost:8080/"
        },
        "id": "DF5MVdwn4END",
        "outputId": "5df97d28-a4fd-4d53-a118-bf15c39345f6"
      },
      "source": [
        "!perl  OpenNMT-py/tools/multi-bleu.perl train/te_gg.txt < train/ggdocs.txt"
      ],
      "execution_count": null,
      "outputs": [
        {
          "output_type": "stream",
          "text": [
            "BLEU = 0.31, 95.1/90.9/87.0/83.2 (BP=0.004, ratio=0.150, hyp_len=1769, ref_len=11766)\n"
          ],
          "name": "stdout"
        }
      ]
    },
    {
      "cell_type": "code",
      "metadata": {
        "colab": {
          "base_uri": "https://localhost:8080/"
        },
        "id": "1u3K0z5kgNnK",
        "outputId": "b38d3435-04d2-4eaf-a606-55b940746178"
      },
      "source": [
        "with open('pred3.txt', 'r', encoding='utf-8') as f:\n",
        "  pred = f.readlines()\n",
        "print (len(pred))"
      ],
      "execution_count": null,
      "outputs": [
        {
          "output_type": "stream",
          "text": [
            "6030\n"
          ],
          "name": "stdout"
        }
      ]
    },
    {
      "cell_type": "code",
      "metadata": {
        "colab": {
          "base_uri": "https://localhost:8080/"
        },
        "id": "YHJDGNCfggeA",
        "outputId": "e96e2980-7c01-49d4-f8f6-5cbf5cd5bf6e"
      },
      "source": [
        "with open('train/test_tgt2.txt', 'r', encoding='utf-8') as f:\n",
        "  test_tgt = f.readlines()\n",
        "print (len(test_tgt))"
      ],
      "execution_count": null,
      "outputs": [
        {
          "output_type": "stream",
          "text": [
            "10000\n"
          ],
          "name": "stdout"
        }
      ]
    },
    {
      "cell_type": "code",
      "metadata": {
        "colab": {
          "base_uri": "https://localhost:8080/"
        },
        "id": "HzgwNGDMh_DD",
        "outputId": "fb377fd7-e729-41f8-d352-d9fe20b2e8f4"
      },
      "source": [
        "with open('train/test_src3.txt', 'r', encoding='utf-8') as f:\n",
        "  test_src = f.readlines()\n",
        "print (len(test_src))"
      ],
      "execution_count": null,
      "outputs": [
        {
          "output_type": "stream",
          "text": [
            "10000\n"
          ],
          "name": "stdout"
        }
      ]
    },
    {
      "cell_type": "code",
      "metadata": {
        "id": "dC8IO8_qf13E"
      },
      "source": [
        "def wer(r, h):\n",
        "    \"\"\"\n",
        "    Calculation of WER with Levenshtein distance.\n",
        "\n",
        "    Works only for iterables up to 254 elements (uint8).\n",
        "    O(nm) time ans space complexity.\n",
        "\n",
        "    Parameters\n",
        "    ----------\n",
        "    r : list\n",
        "    h : list\n",
        "\n",
        "    Returns\n",
        "    -------\n",
        "    int\n",
        "\n",
        "    Examples\n",
        "    --------\n",
        "    >>> wer(\"who is there\".split(), \"is there\".split())\n",
        "    1\n",
        "    >>> wer(\"who is there\".split(), \"\".split())\n",
        "    3\n",
        "    >>> wer(\"\".split(), \"who is there\".split())\n",
        "    3\n",
        "    \"\"\"\n",
        "    # initialisation\n",
        "    import numpy\n",
        "    d = numpy.zeros((len(r)+1)*(len(h)+1), dtype=numpy.uint8)\n",
        "    d = d.reshape((len(r)+1, len(h)+1))\n",
        "    for i in range(len(r)+1):\n",
        "        for j in range(len(h)+1):\n",
        "            if i == 0:\n",
        "                d[0][j] = j\n",
        "            elif j == 0:\n",
        "                d[i][0] = i\n",
        "\n",
        "    # computation\n",
        "    for i in range(1, len(r)+1):\n",
        "        for j in range(1, len(h)+1):\n",
        "            if r[i-1] == h[j-1]:\n",
        "                d[i][j] = d[i-1][j-1]\n",
        "            else:\n",
        "                substitution = d[i-1][j-1] + 1\n",
        "                insertion    = d[i][j-1] + 1\n",
        "                deletion     = d[i-1][j] + 1\n",
        "                d[i][j] = min(substitution, insertion, deletion)\n",
        "\n",
        "    return d[len(r)][len(h)]\n",
        "\n"
      ],
      "execution_count": null,
      "outputs": []
    },
    {
      "cell_type": "code",
      "metadata": {
        "colab": {
          "base_uri": "https://localhost:8080/"
        },
        "id": "9T4X_qnIhMPc",
        "outputId": "7cc790a7-6f0d-4da1-b174-e6721c1beb18"
      },
      "source": [
        "from tqdm import tqdm\n",
        "num = 0\n",
        "for i in tqdm(range(len(pred))):\n",
        "  temp = wer(pred[i].split(), test_tgt[i].split())\n",
        "  num += temp\n",
        "print(num)"
      ],
      "execution_count": null,
      "outputs": [
        {
          "output_type": "stream",
          "text": [
            "100%|██████████| 6030/6030 [00:43<00:00, 138.17it/s]\n"
          ],
          "name": "stderr"
        }
      ]
    },
    {
      "cell_type": "code",
      "metadata": {
        "colab": {
          "base_uri": "https://localhost:8080/"
        },
        "id": "eSIu_PWsh6Od",
        "outputId": "5106e816-ffe0-4f60-ee12-f790b80ce241"
      },
      "source": [
        "from tqdm import tqdm\n",
        "num = 0\n",
        "for i in tqdm(range(len(pred))):\n",
        "  temp = wer(test_src[i].split(), test_tgt[i].split())\n",
        "  num += temp\n",
        "print(num)"
      ],
      "execution_count": null,
      "outputs": [
        {
          "output_type": "stream",
          "text": [
            "100%|██████████| 6030/6030 [00:47<00:00, 126.68it/s]"
          ],
          "name": "stderr"
        },
        {
          "output_type": "stream",
          "text": [
            "25230\n"
          ],
          "name": "stdout"
        },
        {
          "output_type": "stream",
          "text": [
            "\n"
          ],
          "name": "stderr"
        }
      ]
    },
    {
      "cell_type": "code",
      "metadata": {
        "id": "Ms2kauvFT1u4"
      },
      "source": [
        "def num_right_sen(tgt, pred):\n",
        "  with open(tgt, 'r', encoding='utf-8') as f:\n",
        "    tgt1 = f.readlines()\n",
        "  with open(pred, 'r', encoding='utf-8') as f:\n",
        "    pre = f.readlines()\n",
        "  right_sen = 0\n",
        "  if (len(tgt1) > len(pre)):\n",
        "    sen_num =len(pre)\n",
        "  else:\n",
        "    sen_num = len(tgt1)\n",
        "  for i in range(sen_num):\n",
        "    tgt1[i] = tgt1[i].rstrip(' \\n')\n",
        "    #tgtl = tgt1[i].split(' ')\n",
        "    pre[i] = pre[i].rstrip(' \\n')\n",
        "    #prel = pre[i].split(' ')\n",
        "    if(i< 10):\n",
        "      print(tgt1[i])\n",
        "      print(pre[i])\n",
        "    if(tgt1[i] == pre[i]):\n",
        "      right_sen += 1\n",
        "  acc = float(right_sen*100) / sen_num\n",
        "  print(\"Số câu được sửa chính xác là: %d trên %d câu được sửa \"%(right_sen,sen_num) )\n",
        "  print(\"Độ chính xác theo số câu: \" + str(acc) +\"%\")"
      ],
      "execution_count": null,
      "outputs": []
    },
    {
      "cell_type": "code",
      "metadata": {
        "id": "IGBEyQ0rc0di"
      },
      "source": [
        "def num_right_word(src,tgt, pred):\n",
        "  with open(tgt, 'r', encoding='utf-8') as f:\n",
        "    tgt1 = f.readlines()\n",
        "  with open(pred, 'r', encoding='utf-8') as f:\n",
        "    pre = f.readlines()\n",
        "  with open(src, 'r', encoding='utf-8') as f:\n",
        "    src1 = f.readlines()\n",
        "  right_sen = 0\n",
        "  if (len(tgt1) > len(pre)):\n",
        "    sen_num =len(pre)\n",
        "  else:\n",
        "    sen_num = len(tgt1)\n",
        "  sai = 0\n",
        "  sua_dung = 0\n",
        "  sua_sai = 0\n",
        "  lam_sai = 0\n",
        "  sen = 0\n",
        "  for i in range(sen_num):\n",
        "    tgt1[i] = tgt1[i].rstrip(' \\n')\n",
        "    tgtl = tgt1[i].split(' ')\n",
        "    pre[i] = pre[i].rstrip(' \\n')\n",
        "    prel = pre[i].split(' ')\n",
        "    src1[i] = src1[i].rstrip(' \\n')\n",
        "    srcl = src1[i].split(' ')\n",
        "    if(len(tgtl) == len(prel) and len(prel) == len(srcl) and i < 100):\n",
        "      sen += 1\n",
        "      for j in range(len(tgtl)):\n",
        "        if(tgtl[j] != srcl[j]):\n",
        "          sai += 1\n",
        "          if(tgtl[j] == prel[j]):\n",
        "            sua_dung += 1\n",
        "          else:\n",
        "            sua_sai += 1\n",
        "        if(tgtl[j] == srcl[j] and tgtl[j] != prel[j]):\n",
        "          lam_sai +=  1\n",
        "\n",
        "  print(\"Số từ được sửa chính xác là: %d trên %d từ sai \"%(sua_dung,sai))\n",
        "  print(\"Số từ đã sửa nhưng sai là: %d trên %d từ sai \"%(sua_sai,sai))\n",
        "  print(\"Số từ bị sửa đúng thành sai là: %d từ \"%(lam_sai))\n",
        "  print(\"Số câu check %d trên %d câu\"%(sen,sen_num))"
      ],
      "execution_count": null,
      "outputs": []
    },
    {
      "cell_type": "code",
      "metadata": {
        "colab": {
          "base_uri": "https://localhost:8080/"
        },
        "id": "8ASuUNDilw2n",
        "outputId": "471e22d1-db5f-485c-9461-f785d7820445"
      },
      "source": [
        "num_right_word(\"train/test_src3.txt\", \"train/test_tgt2.txt\", \"pred3.txt\")"
      ],
      "execution_count": null,
      "outputs": [
        {
          "output_type": "stream",
          "text": [
            "Số từ được sửa chính xác là: 193 trên 238 từ sai \n",
            "Số từ đã sửa nhưng sai là: 45 trên 238 từ sai \n",
            "Số từ bị sửa đúng thành sai là: 10 từ \n",
            "Số câu check 91 trên 6030 câu\n"
          ],
          "name": "stdout"
        }
      ]
    },
    {
      "cell_type": "code",
      "metadata": {
        "colab": {
          "base_uri": "https://localhost:8080/"
        },
        "id": "_BiMONm858P1",
        "outputId": "a5dbb411-e53c-4865-9b02-af8d5222d499"
      },
      "source": [
        "num_right_word(\"train/src.txt\", \"train/te_gg.txt\", \"train/ggdocs.txt\")"
      ],
      "execution_count": null,
      "outputs": [
        {
          "output_type": "stream",
          "text": [
            "Số từ được sửa chính xác là: 159 trên 237 từ sai \n",
            "Số từ đã sửa nhưng sai là: 78 trên 237 từ sai \n",
            "Số từ bị sửa đúng thành sai là: 5 từ \n",
            "Số câu check 91 trên 91 câu\n"
          ],
          "name": "stdout"
        }
      ]
    },
    {
      "cell_type": "code",
      "metadata": {
        "colab": {
          "base_uri": "https://localhost:8080/"
        },
        "id": "YIzPaGpY--8q",
        "outputId": "222ad99d-f1d4-4140-d533-b869bf92cadd"
      },
      "source": [
        "num_right_word(\"VNTC/test_src.txt\", \"VNTC/test_tgt.txt\", \"VNTC/pred.txt\")"
      ],
      "execution_count": null,
      "outputs": [
        {
          "output_type": "stream",
          "text": [
            "Số từ được sửa chính xác là: 493834 trên 690720 từ sai \n",
            "Số từ đã sửa nhưng sai là: 196886 trên 690720 từ sai \n",
            "Số từ bị sửa đúng thành sai là: 41564 từ \n",
            "Số câu check 186038 trên 200000 câu\n"
          ],
          "name": "stdout"
        }
      ]
    },
    {
      "cell_type": "code",
      "metadata": {
        "colab": {
          "base_uri": "https://localhost:8080/"
        },
        "id": "h1_IfBc1W5jh",
        "outputId": "ddcb4cd2-6d21-4dca-df0c-66987f634246"
      },
      "source": [
        "num_right_sen(\"train/test_tgt2.txt\", \"pred.txt\")"
      ],
      "execution_count": null,
      "outputs": [
        {
          "output_type": "stream",
          "text": [
            "\"Giai điệu, ENG＿7 đường vĩ đại và khó khăn của chúng ta\"\n",
            "\"Giai điệu, ENG＿7 đường vĩ đại và khó khăn của chúng ta\"\n",
            "\"Trái đất đã cống hiến cho ENG＿7 người tài năng của nó,\"\n",
            "\"Trái đất đã cống hiến cho ENG＿7 người tài năng của nó,\"\n",
            "\"Và mọi người đã cống hiến tài năng của mình cho Trái đất!\"\n",
            "\"Và mọi người đã cống hiến tài năng của mình cho Trái đất!\"\n",
            "Chúng ENG＿67 không giấu mặt khỏi ngọn lửa,\n",
            "Chúng ENG＿67 không giấu mặt kdỏi ngọn lửa,\n",
            "Khi kim loại được sinh ra trong lò\n",
            "Khi kim loại được sinh ra trong lò\n",
            "Bàn tay mệt mỏi của người thợ rèn được tiết chế với hy vọng bởi giai điệu\n",
            "Bàn tay mệt mỏi của người thợ rnè được tiết chế với hy vọng bởi giai điệu\n",
            "Nó sấm sét với quy mô của các nhà máy,\n",
            "Nó sấm sét với quy mô của các nhà máy,\n",
            "Và các đoàn tàu mang nó trên đường ENG＿2007\n",
            "Và các ENG＿7 tàu mang nó trên đường EGN＿2007\n",
            "Tại nhà của chúng ENG＿67, nó nói chuyện với chúng ENG＿67 -\n",
            "Tại nhà của chúng ENG＿67, nó nói chuyện với chúng ENG＿67 -\n",
            "Giai điệu công nhân của Kuzbass\n",
            "Giai điệu hạt nhân của Kuzbass\n",
            "Số câu được sửa chính xác là: 2250 trên 6030 câu được sửa \n",
            "Độ chính xác theo số câu: 37.3134328358209%\n"
          ],
          "name": "stdout"
        }
      ]
    }
  ]
}