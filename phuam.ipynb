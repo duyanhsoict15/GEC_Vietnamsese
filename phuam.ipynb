{
 "cells": [
  {
   "cell_type": "code",
   "execution_count": 3,
   "metadata": {},
   "outputs": [
    {
     "name": "stdout",
     "output_type": "stream",
     "text": [
      "Từ 'vui' có 2 âm tiết.\n"
     ]
    }
   ],
   "source": [
    "def kiem_tra_so_am_tiet(tu):\n",
    "    am_tiet = [phu_am for phu_am in tu if phu_am.lower() in 'aeiouyáàạảãăắằặẳẵâấầậẩẫéèẹẻẽêếềệểễóòọỏõôốồộổỗơớờợởỡíìịỉĩúùụủũưứừựửữýỳỵỷỹ']\n",
    "    return len(am_tiet)\n",
    "\n",
    "# Sử dụng hàm kiểm tra\n",
    "tu_can_kiem_tra = \"vui\"\n",
    "so_am_tiet = kiem_tra_so_am_tiet(tu_can_kiem_tra)\n",
    "print(f\"Từ '{tu_can_kiem_tra}' có {so_am_tiet} âm tiết.\")\n"
   ]
  },
  {
   "cell_type": "code",
   "execution_count": null,
   "metadata": {},
   "outputs": [],
   "source": []
  }
 ],
 "metadata": {
  "kernelspec": {
   "display_name": "base",
   "language": "python",
   "name": "python3"
  },
  "language_info": {
   "codemirror_mode": {
    "name": "ipython",
    "version": 3
   },
   "file_extension": ".py",
   "mimetype": "text/x-python",
   "name": "python",
   "nbconvert_exporter": "python",
   "pygments_lexer": "ipython3",
   "version": "3.10.9"
  }
 },
 "nbformat": 4,
 "nbformat_minor": 2
}
