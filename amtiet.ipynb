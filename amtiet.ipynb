{
 "cells": [
  {
   "cell_type": "code",
   "execution_count": 6,
   "metadata": {},
   "outputs": [
    {
     "name": "stderr",
     "output_type": "stream",
     "text": [
      "[nltk_data] Downloading package punkt to\n",
      "[nltk_data]     C:\\Users\\duyan\\AppData\\Roaming\\nltk_data...\n",
      "[nltk_data]   Package punkt is already up-to-date!\n"
     ]
    },
    {
     "name": "stdout",
     "output_type": "stream",
     "text": [
      "Từ \"ban\" không phải là tiếng Việt và có 1 âm tiết.\n"
     ]
    }
   ],
   "source": [
    "import nltk\n",
    "\n",
    "nltk.download('punkt')  # Cần tải về dữ liệu cho nltk\n",
    "\n",
    "def count_syllables(word, language):\n",
    "    if language == 'english':\n",
    "        # Sử dụng nltk để đếm số âm tiết trong tiếng Anh\n",
    "        return len(nltk.tokenize.word_tokenize(word))\n",
    "    elif language == 'vietnamese':\n",
    "        # Trong tiếng Việt, mỗi từ thường có một âm tiết\n",
    "        return 1\n",
    "    else:\n",
    "        return None  # Ngôn ngữ không được hỗ trợ\n",
    "\n",
    "def is_vietnamese(word):\n",
    "    language = language_detection(word.lower())\n",
    "    num_syllables = count_syllables(word, language)\n",
    "\n",
    "    if num_syllables == 1 and language == 'vietnamese':\n",
    "        return True\n",
    "    else:\n",
    "        return False\n",
    "\n",
    "def language_detection(word):\n",
    "    # Đơn giản hóa quyết định ngôn ngữ bằng cách kiểm tra xem từ có chứa chữ cái Latinh không\n",
    "    if any(char.isalpha() for char in word):\n",
    "        return 'english'\n",
    "    else:\n",
    "        return 'vietnamese'\n",
    "\n",
    "def main():\n",
    "    word = input(\"Nhập từ cần kiểm tra: \")\n",
    "    language = language_detection(word.lower())\n",
    "    num_syllables = count_syllables(word, language)\n",
    "\n",
    "    if is_vietnamese(word):\n",
    "        print(f'Từ \"{word}\" là tiếng Việt và có {num_syllables} âm tiết.')\n",
    "    else:\n",
    "        print(f'Từ \"{word}\" không phải là tiếng Việt và có {num_syllables} âm tiết.')\n",
    "\n",
    "if __name__ == \"__main__\":\n",
    "    main()\n"
   ]
  }
 ],
 "metadata": {
  "kernelspec": {
   "display_name": "base",
   "language": "python",
   "name": "python3"
  },
  "language_info": {
   "codemirror_mode": {
    "name": "ipython",
    "version": 3
   },
   "file_extension": ".py",
   "mimetype": "text/x-python",
   "name": "python",
   "nbconvert_exporter": "python",
   "pygments_lexer": "ipython3",
   "version": "3.10.9"
  }
 },
 "nbformat": 4,
 "nbformat_minor": 2
}
